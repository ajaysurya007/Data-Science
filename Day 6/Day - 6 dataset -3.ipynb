{
 "cells": [
  {
   "cell_type": "markdown",
   "id": "40231cbc",
   "metadata": {},
   "source": [
    "# import libraries"
   ]
  },
  {
   "cell_type": "code",
   "execution_count": 2,
   "id": "9a6c4431",
   "metadata": {},
   "outputs": [],
   "source": [
    "import numpy as np\n",
    "import pandas as pd"
   ]
  },
  {
   "cell_type": "markdown",
   "id": "81d37b42",
   "metadata": {},
   "source": [
    "import dataset"
   ]
  },
  {
   "cell_type": "code",
   "execution_count": 3,
   "id": "6d92ab44",
   "metadata": {},
   "outputs": [
    {
     "data": {
      "text/html": [
       "<div>\n",
       "<style scoped>\n",
       "    .dataframe tbody tr th:only-of-type {\n",
       "        vertical-align: middle;\n",
       "    }\n",
       "\n",
       "    .dataframe tbody tr th {\n",
       "        vertical-align: top;\n",
       "    }\n",
       "\n",
       "    .dataframe thead th {\n",
       "        text-align: right;\n",
       "    }\n",
       "</style>\n",
       "<table border=\"1\" class=\"dataframe\">\n",
       "  <thead>\n",
       "    <tr style=\"text-align: right;\">\n",
       "      <th></th>\n",
       "      <th>MonthYear</th>\n",
       "      <th>Time index</th>\n",
       "      <th>Country</th>\n",
       "      <th>StoreID</th>\n",
       "      <th>City</th>\n",
       "      <th>Dept_ID</th>\n",
       "      <th>Dept. Name</th>\n",
       "      <th>HoursOwn</th>\n",
       "      <th>HoursLease</th>\n",
       "      <th>Sales units</th>\n",
       "      <th>Turnover</th>\n",
       "      <th>Customer</th>\n",
       "      <th>Area (m2)</th>\n",
       "      <th>Opening hours</th>\n",
       "    </tr>\n",
       "  </thead>\n",
       "  <tbody>\n",
       "    <tr>\n",
       "      <th>0</th>\n",
       "      <td>10.2016</td>\n",
       "      <td>1.0</td>\n",
       "      <td>United Kingdom</td>\n",
       "      <td>88253.0</td>\n",
       "      <td>London (I)</td>\n",
       "      <td>1.0</td>\n",
       "      <td>Dry</td>\n",
       "      <td>3184.764</td>\n",
       "      <td>0.0</td>\n",
       "      <td>398560.0</td>\n",
       "      <td>1226244.0</td>\n",
       "      <td>NaN</td>\n",
       "      <td>953.04</td>\n",
       "      <td>Type A</td>\n",
       "    </tr>\n",
       "    <tr>\n",
       "      <th>1</th>\n",
       "      <td>10.2016</td>\n",
       "      <td>1.0</td>\n",
       "      <td>United Kingdom</td>\n",
       "      <td>88253.0</td>\n",
       "      <td>London (I)</td>\n",
       "      <td>2.0</td>\n",
       "      <td>Frozen</td>\n",
       "      <td>1582.941</td>\n",
       "      <td>0.0</td>\n",
       "      <td>82725.0</td>\n",
       "      <td>387810.0</td>\n",
       "      <td>NaN</td>\n",
       "      <td>720.48</td>\n",
       "      <td>Type A</td>\n",
       "    </tr>\n",
       "    <tr>\n",
       "      <th>2</th>\n",
       "      <td>10.2016</td>\n",
       "      <td>1.0</td>\n",
       "      <td>United Kingdom</td>\n",
       "      <td>88253.0</td>\n",
       "      <td>London (I)</td>\n",
       "      <td>3.0</td>\n",
       "      <td>other</td>\n",
       "      <td>47.205</td>\n",
       "      <td>0.0</td>\n",
       "      <td>438400.0</td>\n",
       "      <td>654657.0</td>\n",
       "      <td>NaN</td>\n",
       "      <td>966.72</td>\n",
       "      <td>Type A</td>\n",
       "    </tr>\n",
       "    <tr>\n",
       "      <th>3</th>\n",
       "      <td>10.2016</td>\n",
       "      <td>1.0</td>\n",
       "      <td>United Kingdom</td>\n",
       "      <td>88253.0</td>\n",
       "      <td>London (I)</td>\n",
       "      <td>4.0</td>\n",
       "      <td>Fish</td>\n",
       "      <td>1623.852</td>\n",
       "      <td>0.0</td>\n",
       "      <td>309425.0</td>\n",
       "      <td>499434.0</td>\n",
       "      <td>NaN</td>\n",
       "      <td>1053.36</td>\n",
       "      <td>Type A</td>\n",
       "    </tr>\n",
       "    <tr>\n",
       "      <th>4</th>\n",
       "      <td>10.2016</td>\n",
       "      <td>1.0</td>\n",
       "      <td>United Kingdom</td>\n",
       "      <td>88253.0</td>\n",
       "      <td>London (I)</td>\n",
       "      <td>5.0</td>\n",
       "      <td>Fruits &amp; Vegetables</td>\n",
       "      <td>1759.173</td>\n",
       "      <td>0.0</td>\n",
       "      <td>165515.0</td>\n",
       "      <td>329397.0</td>\n",
       "      <td>NaN</td>\n",
       "      <td>1053.36</td>\n",
       "      <td>Type A</td>\n",
       "    </tr>\n",
       "    <tr>\n",
       "      <th>...</th>\n",
       "      <td>...</td>\n",
       "      <td>...</td>\n",
       "      <td>...</td>\n",
       "      <td>...</td>\n",
       "      <td>...</td>\n",
       "      <td>...</td>\n",
       "      <td>...</td>\n",
       "      <td>...</td>\n",
       "      <td>...</td>\n",
       "      <td>...</td>\n",
       "      <td>...</td>\n",
       "      <td>...</td>\n",
       "      <td>...</td>\n",
       "      <td>...</td>\n",
       "    </tr>\n",
       "    <tr>\n",
       "      <th>7653</th>\n",
       "      <td>06.2017</td>\n",
       "      <td>9.0</td>\n",
       "      <td>Sweden</td>\n",
       "      <td>29650.0</td>\n",
       "      <td>Gothenburg</td>\n",
       "      <td>12.0</td>\n",
       "      <td>Checkout</td>\n",
       "      <td>6322.323</td>\n",
       "      <td>0.0</td>\n",
       "      <td>3886530.0</td>\n",
       "      <td>14538825.0</td>\n",
       "      <td>NaN</td>\n",
       "      <td>#NV</td>\n",
       "      <td>Type A</td>\n",
       "    </tr>\n",
       "    <tr>\n",
       "      <th>7654</th>\n",
       "      <td>06.2017</td>\n",
       "      <td>9.0</td>\n",
       "      <td>Sweden</td>\n",
       "      <td>29650.0</td>\n",
       "      <td>Gothenburg</td>\n",
       "      <td>16.0</td>\n",
       "      <td>Customer Services</td>\n",
       "      <td>4270.479</td>\n",
       "      <td>0.0</td>\n",
       "      <td>245.0</td>\n",
       "      <td>0.0</td>\n",
       "      <td>NaN</td>\n",
       "      <td>#NV</td>\n",
       "      <td>Type A</td>\n",
       "    </tr>\n",
       "    <tr>\n",
       "      <th>7655</th>\n",
       "      <td>06.2017</td>\n",
       "      <td>9.0</td>\n",
       "      <td>Sweden</td>\n",
       "      <td>29650.0</td>\n",
       "      <td>Gothenburg</td>\n",
       "      <td>11.0</td>\n",
       "      <td>Delivery</td>\n",
       "      <td>0</td>\n",
       "      <td>0.0</td>\n",
       "      <td>0.0</td>\n",
       "      <td>0.0</td>\n",
       "      <td>NaN</td>\n",
       "      <td>#NV</td>\n",
       "      <td>Type A</td>\n",
       "    </tr>\n",
       "    <tr>\n",
       "      <th>7656</th>\n",
       "      <td>06.2017</td>\n",
       "      <td>9.0</td>\n",
       "      <td>Sweden</td>\n",
       "      <td>29650.0</td>\n",
       "      <td>Gothenburg</td>\n",
       "      <td>17.0</td>\n",
       "      <td>others</td>\n",
       "      <td>2224.929</td>\n",
       "      <td>0.0</td>\n",
       "      <td>245.0</td>\n",
       "      <td>0.0</td>\n",
       "      <td>NaN</td>\n",
       "      <td>#NV</td>\n",
       "      <td>Type A</td>\n",
       "    </tr>\n",
       "    <tr>\n",
       "      <th>7657</th>\n",
       "      <td>06.2017</td>\n",
       "      <td>9.0</td>\n",
       "      <td>Sweden</td>\n",
       "      <td>29650.0</td>\n",
       "      <td>Gothenburg</td>\n",
       "      <td>18.0</td>\n",
       "      <td>all</td>\n",
       "      <td>39652.2</td>\n",
       "      <td>0.0</td>\n",
       "      <td>3886530.0</td>\n",
       "      <td>15056214.0</td>\n",
       "      <td>NaN</td>\n",
       "      <td>#NV</td>\n",
       "      <td>Type A</td>\n",
       "    </tr>\n",
       "  </tbody>\n",
       "</table>\n",
       "<p>7658 rows × 14 columns</p>\n",
       "</div>"
      ],
      "text/plain": [
       "     MonthYear  Time index         Country  StoreID        City  Dept_ID  \\\n",
       "0      10.2016         1.0  United Kingdom  88253.0  London (I)      1.0   \n",
       "1      10.2016         1.0  United Kingdom  88253.0  London (I)      2.0   \n",
       "2      10.2016         1.0  United Kingdom  88253.0  London (I)      3.0   \n",
       "3      10.2016         1.0  United Kingdom  88253.0  London (I)      4.0   \n",
       "4      10.2016         1.0  United Kingdom  88253.0  London (I)      5.0   \n",
       "...        ...         ...             ...      ...         ...      ...   \n",
       "7653   06.2017         9.0          Sweden  29650.0  Gothenburg     12.0   \n",
       "7654   06.2017         9.0          Sweden  29650.0  Gothenburg     16.0   \n",
       "7655   06.2017         9.0          Sweden  29650.0  Gothenburg     11.0   \n",
       "7656   06.2017         9.0          Sweden  29650.0  Gothenburg     17.0   \n",
       "7657   06.2017         9.0          Sweden  29650.0  Gothenburg     18.0   \n",
       "\n",
       "               Dept. Name  HoursOwn  HoursLease  Sales units    Turnover  \\\n",
       "0                     Dry  3184.764         0.0     398560.0   1226244.0   \n",
       "1                  Frozen  1582.941         0.0      82725.0    387810.0   \n",
       "2                   other    47.205         0.0     438400.0    654657.0   \n",
       "3                    Fish  1623.852         0.0     309425.0    499434.0   \n",
       "4     Fruits & Vegetables  1759.173         0.0     165515.0    329397.0   \n",
       "...                   ...       ...         ...          ...         ...   \n",
       "7653             Checkout  6322.323         0.0    3886530.0  14538825.0   \n",
       "7654    Customer Services  4270.479         0.0        245.0         0.0   \n",
       "7655             Delivery         0         0.0          0.0         0.0   \n",
       "7656               others  2224.929         0.0        245.0         0.0   \n",
       "7657                  all   39652.2         0.0    3886530.0  15056214.0   \n",
       "\n",
       "      Customer Area (m2) Opening hours  \n",
       "0          NaN    953.04        Type A  \n",
       "1          NaN    720.48        Type A  \n",
       "2          NaN    966.72        Type A  \n",
       "3          NaN   1053.36        Type A  \n",
       "4          NaN   1053.36        Type A  \n",
       "...        ...       ...           ...  \n",
       "7653       NaN       #NV        Type A  \n",
       "7654       NaN       #NV        Type A  \n",
       "7655       NaN       #NV        Type A  \n",
       "7656       NaN       #NV        Type A  \n",
       "7657       NaN       #NV        Type A  \n",
       "\n",
       "[7658 rows x 14 columns]"
      ]
     },
     "execution_count": 3,
     "metadata": {},
     "output_type": "execute_result"
    }
   ],
   "source": [
    "data=pd.read_csv(r\"C:\\Users\\user\\Downloads\\6_Salesworkload1.csv\")\n",
    "data"
   ]
  },
  {
   "cell_type": "markdown",
   "id": "ea27f134",
   "metadata": {},
   "source": [
    "mean"
   ]
  },
  {
   "cell_type": "code",
   "execution_count": 4,
   "id": "e27041fb",
   "metadata": {},
   "outputs": [
    {
     "name": "stdout",
     "output_type": "stream",
     "text": [
      "Time index     5.000000e+00\n",
      "StoreID        6.199522e+04\n",
      "Dept_ID        9.470588e+00\n",
      "HoursLease     2.203608e+01\n",
      "Sales units    1.076471e+06\n",
      "Turnover       3.721393e+06\n",
      "Customer                NaN\n",
      "dtype: float64\n"
     ]
    }
   ],
   "source": [
    "print(data.mean())"
   ]
  },
  {
   "cell_type": "markdown",
   "id": "dc27736e",
   "metadata": {},
   "source": [
    "median"
   ]
  },
  {
   "cell_type": "code",
   "execution_count": 5,
   "id": "dcfe3044",
   "metadata": {},
   "outputs": [
    {
     "name": "stdout",
     "output_type": "stream",
     "text": [
      "Time index          5.0\n",
      "StoreID         75400.5\n",
      "Dept_ID             9.0\n",
      "HoursLease          0.0\n",
      "Sales units    293230.0\n",
      "Turnover       931957.5\n",
      "Customer            NaN\n",
      "dtype: float64\n"
     ]
    }
   ],
   "source": [
    "print(data.median())"
   ]
  },
  {
   "cell_type": "markdown",
   "id": "2136f246",
   "metadata": {},
   "source": [
    "mode"
   ]
  },
  {
   "cell_type": "code",
   "execution_count": 6,
   "id": "1e1546dc",
   "metadata": {},
   "outputs": [
    {
     "name": "stdout",
     "output_type": "stream",
     "text": [
      "        Time index       StoreID      Dept_ID   HoursLease   Sales units  \\\n",
      "count  7650.000000   7650.000000  7650.000000  7650.000000  7.650000e+03   \n",
      "mean      5.000000  61995.220000     9.470588    22.036078  1.076471e+06   \n",
      "std       2.582158  29924.581631     5.337429   133.299513  1.728113e+06   \n",
      "min       1.000000  12227.000000     1.000000     0.000000  0.000000e+00   \n",
      "25%       3.000000  29650.000000     5.000000     0.000000  5.457125e+04   \n",
      "50%       5.000000  75400.500000     9.000000     0.000000  2.932300e+05   \n",
      "75%       7.000000  87703.000000    14.000000     0.000000  9.175075e+05   \n",
      "max       9.000000  98422.000000    18.000000  3984.000000  1.124296e+07   \n",
      "\n",
      "           Turnover  Customer  \n",
      "count  7.650000e+03       0.0  \n",
      "mean   3.721393e+06       NaN  \n",
      "std    6.003380e+06       NaN  \n",
      "min    0.000000e+00       NaN  \n",
      "25%    2.726798e+05       NaN  \n",
      "50%    9.319575e+05       NaN  \n",
      "75%    3.264432e+06       NaN  \n",
      "max    4.271739e+07       NaN  \n"
     ]
    }
   ],
   "source": [
    "print(data.describe())"
   ]
  },
  {
   "cell_type": "code",
   "execution_count": 7,
   "id": "9bd646a8",
   "metadata": {},
   "outputs": [
    {
     "name": "stdout",
     "output_type": "stream",
     "text": [
      "MonthYear      10.201610.201610.201610.201610.201610.201610.2...\n",
      "Time index                                               38250.0\n",
      "StoreID                                              474263433.0\n",
      "Dept_ID                                                  72450.0\n",
      "HoursLease                                              168576.0\n",
      "Sales units                                         8235000965.0\n",
      "Turnover                                           28468656015.0\n",
      "Customer                                                     0.0\n",
      "dtype: object\n"
     ]
    }
   ],
   "source": [
    "print(data.sum())"
   ]
  },
  {
   "cell_type": "code",
   "execution_count": 8,
   "id": "e7ae1564",
   "metadata": {},
   "outputs": [
    {
     "data": {
      "text/html": [
       "<div>\n",
       "<style scoped>\n",
       "    .dataframe tbody tr th:only-of-type {\n",
       "        vertical-align: middle;\n",
       "    }\n",
       "\n",
       "    .dataframe tbody tr th {\n",
       "        vertical-align: top;\n",
       "    }\n",
       "\n",
       "    .dataframe thead th {\n",
       "        text-align: right;\n",
       "    }\n",
       "</style>\n",
       "<table border=\"1\" class=\"dataframe\">\n",
       "  <thead>\n",
       "    <tr style=\"text-align: right;\">\n",
       "      <th></th>\n",
       "      <th>Sales units</th>\n",
       "      <th>Turnover</th>\n",
       "    </tr>\n",
       "  </thead>\n",
       "  <tbody>\n",
       "    <tr>\n",
       "      <th>0</th>\n",
       "      <td>398560.0</td>\n",
       "      <td>1226244.0</td>\n",
       "    </tr>\n",
       "    <tr>\n",
       "      <th>1</th>\n",
       "      <td>82725.0</td>\n",
       "      <td>387810.0</td>\n",
       "    </tr>\n",
       "    <tr>\n",
       "      <th>2</th>\n",
       "      <td>438400.0</td>\n",
       "      <td>654657.0</td>\n",
       "    </tr>\n",
       "    <tr>\n",
       "      <th>3</th>\n",
       "      <td>309425.0</td>\n",
       "      <td>499434.0</td>\n",
       "    </tr>\n",
       "    <tr>\n",
       "      <th>4</th>\n",
       "      <td>165515.0</td>\n",
       "      <td>329397.0</td>\n",
       "    </tr>\n",
       "    <tr>\n",
       "      <th>...</th>\n",
       "      <td>...</td>\n",
       "      <td>...</td>\n",
       "    </tr>\n",
       "    <tr>\n",
       "      <th>7653</th>\n",
       "      <td>3886530.0</td>\n",
       "      <td>14538825.0</td>\n",
       "    </tr>\n",
       "    <tr>\n",
       "      <th>7654</th>\n",
       "      <td>245.0</td>\n",
       "      <td>0.0</td>\n",
       "    </tr>\n",
       "    <tr>\n",
       "      <th>7655</th>\n",
       "      <td>0.0</td>\n",
       "      <td>0.0</td>\n",
       "    </tr>\n",
       "    <tr>\n",
       "      <th>7656</th>\n",
       "      <td>245.0</td>\n",
       "      <td>0.0</td>\n",
       "    </tr>\n",
       "    <tr>\n",
       "      <th>7657</th>\n",
       "      <td>3886530.0</td>\n",
       "      <td>15056214.0</td>\n",
       "    </tr>\n",
       "  </tbody>\n",
       "</table>\n",
       "<p>7658 rows × 2 columns</p>\n",
       "</div>"
      ],
      "text/plain": [
       "      Sales units    Turnover\n",
       "0        398560.0   1226244.0\n",
       "1         82725.0    387810.0\n",
       "2        438400.0    654657.0\n",
       "3        309425.0    499434.0\n",
       "4        165515.0    329397.0\n",
       "...           ...         ...\n",
       "7653    3886530.0  14538825.0\n",
       "7654        245.0         0.0\n",
       "7655          0.0         0.0\n",
       "7656        245.0         0.0\n",
       "7657    3886530.0  15056214.0\n",
       "\n",
       "[7658 rows x 2 columns]"
      ]
     },
     "execution_count": 8,
     "metadata": {},
     "output_type": "execute_result"
    }
   ],
   "source": [
    "df = pd.DataFrame(data[[\"Sales units\",\"Turnover\"]])\n",
    "df"
   ]
  },
  {
   "cell_type": "code",
   "execution_count": 9,
   "id": "cdafbdc0",
   "metadata": {},
   "outputs": [
    {
     "name": "stdout",
     "output_type": "stream",
     "text": [
      "   Sales units  Turnover\n",
      "0          0.0       0.0\n"
     ]
    }
   ],
   "source": [
    "print(df.mode())"
   ]
  },
  {
   "cell_type": "code",
   "execution_count": 10,
   "id": "1293f593",
   "metadata": {},
   "outputs": [
    {
     "name": "stdout",
     "output_type": "stream",
     "text": [
      "Sales units    1.076471e+06\n",
      "Turnover       3.721393e+06\n",
      "dtype: float64\n"
     ]
    }
   ],
   "source": [
    "print(df.mean())"
   ]
  },
  {
   "cell_type": "code",
   "execution_count": 11,
   "id": "cc56aea0",
   "metadata": {},
   "outputs": [
    {
     "name": "stdout",
     "output_type": "stream",
     "text": [
      "Sales units    293230.0\n",
      "Turnover       931957.5\n",
      "dtype: float64\n"
     ]
    }
   ],
   "source": [
    "print(df.median())"
   ]
  },
  {
   "cell_type": "code",
   "execution_count": 12,
   "id": "62277a36",
   "metadata": {},
   "outputs": [
    {
     "name": "stdout",
     "output_type": "stream",
     "text": [
      "        Sales units      Turnover\n",
      "count  7.650000e+03  7.650000e+03\n",
      "mean   1.076471e+06  3.721393e+06\n",
      "std    1.728113e+06  6.003380e+06\n",
      "min    0.000000e+00  0.000000e+00\n",
      "25%    5.457125e+04  2.726798e+05\n",
      "50%    2.932300e+05  9.319575e+05\n",
      "75%    9.175075e+05  3.264432e+06\n",
      "max    1.124296e+07  4.271739e+07\n"
     ]
    }
   ],
   "source": [
    "print(df.describe())"
   ]
  },
  {
   "cell_type": "code",
   "execution_count": 13,
   "id": "d1523eed",
   "metadata": {},
   "outputs": [
    {
     "name": "stdout",
     "output_type": "stream",
     "text": [
      "Sales units    8.235001e+09\n",
      "Turnover       2.846866e+10\n",
      "dtype: float64\n"
     ]
    }
   ],
   "source": [
    "print(df.sum())"
   ]
  },
  {
   "cell_type": "code",
   "execution_count": 20,
   "id": "0534f9f9",
   "metadata": {},
   "outputs": [
    {
     "name": "stdout",
     "output_type": "stream",
     "text": [
      "       Sales units      Turnover\n",
      "0     3.985600e+05  1.226244e+06\n",
      "1     4.812850e+05  1.614054e+06\n",
      "2     9.196850e+05  2.268711e+06\n",
      "3     1.229110e+06  2.768145e+06\n",
      "4     1.394625e+06  3.097542e+06\n",
      "...            ...           ...\n",
      "7653  8.231114e+09  2.845360e+10\n",
      "7654  8.231114e+09  2.845360e+10\n",
      "7655  8.231114e+09  2.845360e+10\n",
      "7656  8.231114e+09  2.845360e+10\n",
      "7657  8.235001e+09  2.846866e+10\n",
      "\n",
      "[7658 rows x 2 columns]\n"
     ]
    }
   ],
   "source": [
    "print(df.cumsum())"
   ]
  },
  {
   "cell_type": "code",
   "execution_count": 14,
   "id": "f4021938",
   "metadata": {},
   "outputs": [
    {
     "name": "stdout",
     "output_type": "stream",
     "text": [
      "Sales units    0.0\n",
      "Turnover       0.0\n",
      "dtype: float64\n"
     ]
    }
   ],
   "source": [
    "print(df.min())"
   ]
  },
  {
   "cell_type": "code",
   "execution_count": 15,
   "id": "a83d3cd9",
   "metadata": {},
   "outputs": [
    {
     "name": "stdout",
     "output_type": "stream",
     "text": [
      "Sales units    11242955.0\n",
      "Turnover       42717390.0\n",
      "dtype: float64\n"
     ]
    }
   ],
   "source": [
    "print(df.max())"
   ]
  },
  {
   "cell_type": "code",
   "execution_count": 16,
   "id": "e8301d24",
   "metadata": {},
   "outputs": [
    {
     "name": "stdout",
     "output_type": "stream",
     "text": [
      "Sales units    7650\n",
      "Turnover       7650\n",
      "dtype: int64\n"
     ]
    }
   ],
   "source": [
    "print(df.count())"
   ]
  },
  {
   "cell_type": "code",
   "execution_count": 17,
   "id": "af2cbbf9",
   "metadata": {},
   "outputs": [],
   "source": [
    "from numpy import cov"
   ]
  },
  {
   "cell_type": "code",
   "execution_count": 18,
   "id": "ad97a55f",
   "metadata": {},
   "outputs": [
    {
     "name": "stdout",
     "output_type": "stream",
     "text": [
      "[[ 3.42530402e+11  1.26256987e+11  8.94962294e+10 ...  0.00000000e+00\n",
      "  -1.01391290e+08  4.62248437e+12]\n",
      " [ 1.26256987e+11  4.65384286e+10  3.29883834e+10 ...  0.00000000e+00\n",
      "  -3.73729125e+07  1.70385152e+12]\n",
      " [ 8.94962294e+10  3.29883834e+10  2.33835450e+10 ...  0.00000000e+00\n",
      "  -2.64914825e+07  1.20776118e+12]\n",
      " ...\n",
      " [ 0.00000000e+00  0.00000000e+00  0.00000000e+00 ...  0.00000000e+00\n",
      "   0.00000000e+00  0.00000000e+00]\n",
      " [-1.01391290e+08 -3.73729125e+07 -2.64914825e+07 ...  0.00000000e+00\n",
      "   3.00125000e+04 -1.36828629e+09]\n",
      " [ 4.62248437e+12  1.70385152e+12  1.20776118e+12 ...  0.00000000e+00\n",
      "  -1.36828629e+09  6.23809203e+13]]\n"
     ]
    }
   ],
   "source": [
    "print(cov(df))"
   ]
  },
  {
   "cell_type": "code",
   "execution_count": 19,
   "id": "b4cb7765",
   "metadata": {},
   "outputs": [],
   "source": [
    "from scipy.stats import pearsonr\n"
   ]
  },
  {
   "cell_type": "code",
   "execution_count": 21,
   "id": "c0a88aea",
   "metadata": {},
   "outputs": [
    {
     "data": {
      "text/plain": [
       "0      1226244.0\n",
       "1       387810.0\n",
       "2       654657.0\n",
       "3       499434.0\n",
       "4       329397.0\n",
       "         ...    \n",
       "95     2319717.0\n",
       "96           0.0\n",
       "97    12161196.0\n",
       "98           0.0\n",
       "99     2204589.0\n",
       "Name: Turnover, Length: 100, dtype: float64"
      ]
     },
     "execution_count": 21,
     "metadata": {},
     "output_type": "execute_result"
    }
   ],
   "source": [
    "df1 = df[\"Sales units\"][0:100]\n",
    "df2 = df[\"Turnover\"][0:100]\n",
    "df1\n",
    "df2"
   ]
  },
  {
   "cell_type": "code",
   "execution_count": 22,
   "id": "f05586c1",
   "metadata": {},
   "outputs": [
    {
     "name": "stdout",
     "output_type": "stream",
     "text": [
      "(0.9861714333836227, 2.5825285818653907e-78)\n"
     ]
    }
   ],
   "source": [
    "print(pearsonr(df1,df2))"
   ]
  },
  {
   "cell_type": "code",
   "execution_count": 25,
   "id": "b24e7d45",
   "metadata": {},
   "outputs": [],
   "source": [
    "from scipy.stats import spearmanr"
   ]
  },
  {
   "cell_type": "code",
   "execution_count": 26,
   "id": "cb141d9d",
   "metadata": {},
   "outputs": [
    {
     "name": "stdout",
     "output_type": "stream",
     "text": [
      "SpearmanrResult(correlation=0.9127255342617159, pvalue=7.054492671709463e-40)\n"
     ]
    }
   ],
   "source": [
    "print(spearmanr(df1,df2))"
   ]
  },
  {
   "cell_type": "code",
   "execution_count": null,
   "id": "fdd62432",
   "metadata": {},
   "outputs": [],
   "source": []
  }
 ],
 "metadata": {
  "kernelspec": {
   "display_name": "Python 3",
   "language": "python",
   "name": "python3"
  },
  "language_info": {
   "codemirror_mode": {
    "name": "ipython",
    "version": 3
   },
   "file_extension": ".py",
   "mimetype": "text/x-python",
   "name": "python",
   "nbconvert_exporter": "python",
   "pygments_lexer": "ipython3",
   "version": "3.8.8"
  }
 },
 "nbformat": 4,
 "nbformat_minor": 5
}
