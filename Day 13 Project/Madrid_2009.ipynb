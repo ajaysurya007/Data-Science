{
 "cells": [
  {
   "cell_type": "code",
   "execution_count": 1,
   "id": "b781eefd",
   "metadata": {},
   "outputs": [],
   "source": [
    "import numpy as np\n",
    "import pandas as pd\n",
    "import matplotlib.pyplot as plt\n",
    "import seaborn as sns"
   ]
  },
  {
   "cell_type": "code",
   "execution_count": 2,
   "id": "dc822955",
   "metadata": {},
   "outputs": [
    {
     "data": {
      "text/html": [
       "<div>\n",
       "<style scoped>\n",
       "    .dataframe tbody tr th:only-of-type {\n",
       "        vertical-align: middle;\n",
       "    }\n",
       "\n",
       "    .dataframe tbody tr th {\n",
       "        vertical-align: top;\n",
       "    }\n",
       "\n",
       "    .dataframe thead th {\n",
       "        text-align: right;\n",
       "    }\n",
       "</style>\n",
       "<table border=\"1\" class=\"dataframe\">\n",
       "  <thead>\n",
       "    <tr style=\"text-align: right;\">\n",
       "      <th></th>\n",
       "      <th>date</th>\n",
       "      <th>BEN</th>\n",
       "      <th>CO</th>\n",
       "      <th>EBE</th>\n",
       "      <th>MXY</th>\n",
       "      <th>NMHC</th>\n",
       "      <th>NO_2</th>\n",
       "      <th>NOx</th>\n",
       "      <th>OXY</th>\n",
       "      <th>O_3</th>\n",
       "      <th>PM10</th>\n",
       "      <th>PM25</th>\n",
       "      <th>PXY</th>\n",
       "      <th>SO_2</th>\n",
       "      <th>TCH</th>\n",
       "      <th>TOL</th>\n",
       "      <th>station</th>\n",
       "    </tr>\n",
       "  </thead>\n",
       "  <tbody>\n",
       "    <tr>\n",
       "      <th>0</th>\n",
       "      <td>2009-10-01 01:00:00</td>\n",
       "      <td>NaN</td>\n",
       "      <td>0.27</td>\n",
       "      <td>NaN</td>\n",
       "      <td>NaN</td>\n",
       "      <td>NaN</td>\n",
       "      <td>39.889999</td>\n",
       "      <td>48.150002</td>\n",
       "      <td>NaN</td>\n",
       "      <td>50.680000</td>\n",
       "      <td>18.260000</td>\n",
       "      <td>NaN</td>\n",
       "      <td>NaN</td>\n",
       "      <td>5.55</td>\n",
       "      <td>NaN</td>\n",
       "      <td>NaN</td>\n",
       "      <td>28079003</td>\n",
       "    </tr>\n",
       "    <tr>\n",
       "      <th>1</th>\n",
       "      <td>2009-10-01 01:00:00</td>\n",
       "      <td>NaN</td>\n",
       "      <td>0.22</td>\n",
       "      <td>NaN</td>\n",
       "      <td>NaN</td>\n",
       "      <td>NaN</td>\n",
       "      <td>21.230000</td>\n",
       "      <td>24.260000</td>\n",
       "      <td>NaN</td>\n",
       "      <td>55.880001</td>\n",
       "      <td>10.580000</td>\n",
       "      <td>NaN</td>\n",
       "      <td>NaN</td>\n",
       "      <td>8.84</td>\n",
       "      <td>NaN</td>\n",
       "      <td>NaN</td>\n",
       "      <td>28079004</td>\n",
       "    </tr>\n",
       "    <tr>\n",
       "      <th>2</th>\n",
       "      <td>2009-10-01 01:00:00</td>\n",
       "      <td>NaN</td>\n",
       "      <td>0.18</td>\n",
       "      <td>NaN</td>\n",
       "      <td>NaN</td>\n",
       "      <td>NaN</td>\n",
       "      <td>31.230000</td>\n",
       "      <td>34.880001</td>\n",
       "      <td>NaN</td>\n",
       "      <td>49.060001</td>\n",
       "      <td>25.190001</td>\n",
       "      <td>NaN</td>\n",
       "      <td>NaN</td>\n",
       "      <td>6.98</td>\n",
       "      <td>NaN</td>\n",
       "      <td>NaN</td>\n",
       "      <td>28079039</td>\n",
       "    </tr>\n",
       "    <tr>\n",
       "      <th>3</th>\n",
       "      <td>2009-10-01 01:00:00</td>\n",
       "      <td>0.95</td>\n",
       "      <td>0.33</td>\n",
       "      <td>1.43</td>\n",
       "      <td>2.68</td>\n",
       "      <td>0.25</td>\n",
       "      <td>55.180000</td>\n",
       "      <td>81.360001</td>\n",
       "      <td>1.57</td>\n",
       "      <td>36.669998</td>\n",
       "      <td>26.530001</td>\n",
       "      <td>6.82</td>\n",
       "      <td>1.30</td>\n",
       "      <td>8.88</td>\n",
       "      <td>1.38</td>\n",
       "      <td>4.62</td>\n",
       "      <td>28079006</td>\n",
       "    </tr>\n",
       "    <tr>\n",
       "      <th>4</th>\n",
       "      <td>2009-10-01 01:00:00</td>\n",
       "      <td>NaN</td>\n",
       "      <td>0.41</td>\n",
       "      <td>NaN</td>\n",
       "      <td>NaN</td>\n",
       "      <td>0.12</td>\n",
       "      <td>61.349998</td>\n",
       "      <td>76.260002</td>\n",
       "      <td>NaN</td>\n",
       "      <td>38.090000</td>\n",
       "      <td>23.760000</td>\n",
       "      <td>NaN</td>\n",
       "      <td>NaN</td>\n",
       "      <td>7.82</td>\n",
       "      <td>1.41</td>\n",
       "      <td>NaN</td>\n",
       "      <td>28079007</td>\n",
       "    </tr>\n",
       "    <tr>\n",
       "      <th>...</th>\n",
       "      <td>...</td>\n",
       "      <td>...</td>\n",
       "      <td>...</td>\n",
       "      <td>...</td>\n",
       "      <td>...</td>\n",
       "      <td>...</td>\n",
       "      <td>...</td>\n",
       "      <td>...</td>\n",
       "      <td>...</td>\n",
       "      <td>...</td>\n",
       "      <td>...</td>\n",
       "      <td>...</td>\n",
       "      <td>...</td>\n",
       "      <td>...</td>\n",
       "      <td>...</td>\n",
       "      <td>...</td>\n",
       "      <td>...</td>\n",
       "    </tr>\n",
       "    <tr>\n",
       "      <th>215683</th>\n",
       "      <td>2009-06-01 00:00:00</td>\n",
       "      <td>0.50</td>\n",
       "      <td>0.22</td>\n",
       "      <td>0.39</td>\n",
       "      <td>0.75</td>\n",
       "      <td>0.09</td>\n",
       "      <td>22.000000</td>\n",
       "      <td>24.510000</td>\n",
       "      <td>1.00</td>\n",
       "      <td>82.239998</td>\n",
       "      <td>10.830000</td>\n",
       "      <td>7.15</td>\n",
       "      <td>0.74</td>\n",
       "      <td>6.25</td>\n",
       "      <td>1.25</td>\n",
       "      <td>0.69</td>\n",
       "      <td>28079024</td>\n",
       "    </tr>\n",
       "    <tr>\n",
       "      <th>215684</th>\n",
       "      <td>2009-06-01 00:00:00</td>\n",
       "      <td>NaN</td>\n",
       "      <td>0.31</td>\n",
       "      <td>NaN</td>\n",
       "      <td>NaN</td>\n",
       "      <td>NaN</td>\n",
       "      <td>76.110001</td>\n",
       "      <td>101.099998</td>\n",
       "      <td>NaN</td>\n",
       "      <td>41.220001</td>\n",
       "      <td>9.920000</td>\n",
       "      <td>NaN</td>\n",
       "      <td>NaN</td>\n",
       "      <td>4.90</td>\n",
       "      <td>NaN</td>\n",
       "      <td>NaN</td>\n",
       "      <td>28079025</td>\n",
       "    </tr>\n",
       "    <tr>\n",
       "      <th>215685</th>\n",
       "      <td>2009-06-01 00:00:00</td>\n",
       "      <td>0.13</td>\n",
       "      <td>NaN</td>\n",
       "      <td>0.86</td>\n",
       "      <td>NaN</td>\n",
       "      <td>0.23</td>\n",
       "      <td>81.050003</td>\n",
       "      <td>99.849998</td>\n",
       "      <td>NaN</td>\n",
       "      <td>24.830000</td>\n",
       "      <td>12.460000</td>\n",
       "      <td>6.77</td>\n",
       "      <td>NaN</td>\n",
       "      <td>8.40</td>\n",
       "      <td>1.34</td>\n",
       "      <td>0.13</td>\n",
       "      <td>28079026</td>\n",
       "    </tr>\n",
       "    <tr>\n",
       "      <th>215686</th>\n",
       "      <td>2009-06-01 00:00:00</td>\n",
       "      <td>0.21</td>\n",
       "      <td>NaN</td>\n",
       "      <td>2.96</td>\n",
       "      <td>NaN</td>\n",
       "      <td>0.10</td>\n",
       "      <td>72.419998</td>\n",
       "      <td>82.959999</td>\n",
       "      <td>NaN</td>\n",
       "      <td>NaN</td>\n",
       "      <td>13.030000</td>\n",
       "      <td>NaN</td>\n",
       "      <td>NaN</td>\n",
       "      <td>7.84</td>\n",
       "      <td>1.42</td>\n",
       "      <td>1.87</td>\n",
       "      <td>28079027</td>\n",
       "    </tr>\n",
       "    <tr>\n",
       "      <th>215687</th>\n",
       "      <td>2009-06-01 00:00:00</td>\n",
       "      <td>0.37</td>\n",
       "      <td>0.32</td>\n",
       "      <td>0.99</td>\n",
       "      <td>1.36</td>\n",
       "      <td>0.14</td>\n",
       "      <td>54.290001</td>\n",
       "      <td>64.480003</td>\n",
       "      <td>1.06</td>\n",
       "      <td>56.919998</td>\n",
       "      <td>15.360000</td>\n",
       "      <td>11.61</td>\n",
       "      <td>0.83</td>\n",
       "      <td>6.93</td>\n",
       "      <td>1.34</td>\n",
       "      <td>2.02</td>\n",
       "      <td>28079099</td>\n",
       "    </tr>\n",
       "  </tbody>\n",
       "</table>\n",
       "<p>215688 rows × 17 columns</p>\n",
       "</div>"
      ],
      "text/plain": [
       "                       date   BEN    CO   EBE   MXY  NMHC       NO_2  \\\n",
       "0       2009-10-01 01:00:00   NaN  0.27   NaN   NaN   NaN  39.889999   \n",
       "1       2009-10-01 01:00:00   NaN  0.22   NaN   NaN   NaN  21.230000   \n",
       "2       2009-10-01 01:00:00   NaN  0.18   NaN   NaN   NaN  31.230000   \n",
       "3       2009-10-01 01:00:00  0.95  0.33  1.43  2.68  0.25  55.180000   \n",
       "4       2009-10-01 01:00:00   NaN  0.41   NaN   NaN  0.12  61.349998   \n",
       "...                     ...   ...   ...   ...   ...   ...        ...   \n",
       "215683  2009-06-01 00:00:00  0.50  0.22  0.39  0.75  0.09  22.000000   \n",
       "215684  2009-06-01 00:00:00   NaN  0.31   NaN   NaN   NaN  76.110001   \n",
       "215685  2009-06-01 00:00:00  0.13   NaN  0.86   NaN  0.23  81.050003   \n",
       "215686  2009-06-01 00:00:00  0.21   NaN  2.96   NaN  0.10  72.419998   \n",
       "215687  2009-06-01 00:00:00  0.37  0.32  0.99  1.36  0.14  54.290001   \n",
       "\n",
       "               NOx   OXY        O_3       PM10   PM25   PXY  SO_2   TCH   TOL  \\\n",
       "0        48.150002   NaN  50.680000  18.260000    NaN   NaN  5.55   NaN   NaN   \n",
       "1        24.260000   NaN  55.880001  10.580000    NaN   NaN  8.84   NaN   NaN   \n",
       "2        34.880001   NaN  49.060001  25.190001    NaN   NaN  6.98   NaN   NaN   \n",
       "3        81.360001  1.57  36.669998  26.530001   6.82  1.30  8.88  1.38  4.62   \n",
       "4        76.260002   NaN  38.090000  23.760000    NaN   NaN  7.82  1.41   NaN   \n",
       "...            ...   ...        ...        ...    ...   ...   ...   ...   ...   \n",
       "215683   24.510000  1.00  82.239998  10.830000   7.15  0.74  6.25  1.25  0.69   \n",
       "215684  101.099998   NaN  41.220001   9.920000    NaN   NaN  4.90   NaN   NaN   \n",
       "215685   99.849998   NaN  24.830000  12.460000   6.77   NaN  8.40  1.34  0.13   \n",
       "215686   82.959999   NaN        NaN  13.030000    NaN   NaN  7.84  1.42  1.87   \n",
       "215687   64.480003  1.06  56.919998  15.360000  11.61  0.83  6.93  1.34  2.02   \n",
       "\n",
       "         station  \n",
       "0       28079003  \n",
       "1       28079004  \n",
       "2       28079039  \n",
       "3       28079006  \n",
       "4       28079007  \n",
       "...          ...  \n",
       "215683  28079024  \n",
       "215684  28079025  \n",
       "215685  28079026  \n",
       "215686  28079027  \n",
       "215687  28079099  \n",
       "\n",
       "[215688 rows x 17 columns]"
      ]
     },
     "execution_count": 2,
     "metadata": {},
     "output_type": "execute_result"
    }
   ],
   "source": [
    "df=pd.read_csv(r\"c:\\Users\\user\\Downloads\\csvs_per_year\\madrid_2009.csv\")\n",
    "df"
   ]
  },
  {
   "cell_type": "code",
   "execution_count": 3,
   "id": "f8ce57da",
   "metadata": {},
   "outputs": [
    {
     "data": {
      "text/html": [
       "<div>\n",
       "<style scoped>\n",
       "    .dataframe tbody tr th:only-of-type {\n",
       "        vertical-align: middle;\n",
       "    }\n",
       "\n",
       "    .dataframe tbody tr th {\n",
       "        vertical-align: top;\n",
       "    }\n",
       "\n",
       "    .dataframe thead th {\n",
       "        text-align: right;\n",
       "    }\n",
       "</style>\n",
       "<table border=\"1\" class=\"dataframe\">\n",
       "  <thead>\n",
       "    <tr style=\"text-align: right;\">\n",
       "      <th></th>\n",
       "      <th>date</th>\n",
       "      <th>BEN</th>\n",
       "      <th>CO</th>\n",
       "      <th>EBE</th>\n",
       "      <th>MXY</th>\n",
       "      <th>NMHC</th>\n",
       "      <th>NO_2</th>\n",
       "      <th>NOx</th>\n",
       "      <th>OXY</th>\n",
       "      <th>O_3</th>\n",
       "      <th>PM10</th>\n",
       "      <th>PM25</th>\n",
       "      <th>PXY</th>\n",
       "      <th>SO_2</th>\n",
       "      <th>TCH</th>\n",
       "      <th>TOL</th>\n",
       "      <th>station</th>\n",
       "    </tr>\n",
       "  </thead>\n",
       "  <tbody>\n",
       "    <tr>\n",
       "      <th>0</th>\n",
       "      <td>2009-10-01 01:00:00</td>\n",
       "      <td>0.00</td>\n",
       "      <td>0.27</td>\n",
       "      <td>0.00</td>\n",
       "      <td>0.00</td>\n",
       "      <td>0.00</td>\n",
       "      <td>39.889999</td>\n",
       "      <td>48.150002</td>\n",
       "      <td>0.00</td>\n",
       "      <td>50.680000</td>\n",
       "      <td>18.260000</td>\n",
       "      <td>0.00</td>\n",
       "      <td>0.00</td>\n",
       "      <td>5.55</td>\n",
       "      <td>0.00</td>\n",
       "      <td>0.00</td>\n",
       "      <td>28079003</td>\n",
       "    </tr>\n",
       "    <tr>\n",
       "      <th>1</th>\n",
       "      <td>2009-10-01 01:00:00</td>\n",
       "      <td>0.00</td>\n",
       "      <td>0.22</td>\n",
       "      <td>0.00</td>\n",
       "      <td>0.00</td>\n",
       "      <td>0.00</td>\n",
       "      <td>21.230000</td>\n",
       "      <td>24.260000</td>\n",
       "      <td>0.00</td>\n",
       "      <td>55.880001</td>\n",
       "      <td>10.580000</td>\n",
       "      <td>0.00</td>\n",
       "      <td>0.00</td>\n",
       "      <td>8.84</td>\n",
       "      <td>0.00</td>\n",
       "      <td>0.00</td>\n",
       "      <td>28079004</td>\n",
       "    </tr>\n",
       "    <tr>\n",
       "      <th>2</th>\n",
       "      <td>2009-10-01 01:00:00</td>\n",
       "      <td>0.00</td>\n",
       "      <td>0.18</td>\n",
       "      <td>0.00</td>\n",
       "      <td>0.00</td>\n",
       "      <td>0.00</td>\n",
       "      <td>31.230000</td>\n",
       "      <td>34.880001</td>\n",
       "      <td>0.00</td>\n",
       "      <td>49.060001</td>\n",
       "      <td>25.190001</td>\n",
       "      <td>0.00</td>\n",
       "      <td>0.00</td>\n",
       "      <td>6.98</td>\n",
       "      <td>0.00</td>\n",
       "      <td>0.00</td>\n",
       "      <td>28079039</td>\n",
       "    </tr>\n",
       "    <tr>\n",
       "      <th>3</th>\n",
       "      <td>2009-10-01 01:00:00</td>\n",
       "      <td>0.95</td>\n",
       "      <td>0.33</td>\n",
       "      <td>1.43</td>\n",
       "      <td>2.68</td>\n",
       "      <td>0.25</td>\n",
       "      <td>55.180000</td>\n",
       "      <td>81.360001</td>\n",
       "      <td>1.57</td>\n",
       "      <td>36.669998</td>\n",
       "      <td>26.530001</td>\n",
       "      <td>6.82</td>\n",
       "      <td>1.30</td>\n",
       "      <td>8.88</td>\n",
       "      <td>1.38</td>\n",
       "      <td>4.62</td>\n",
       "      <td>28079006</td>\n",
       "    </tr>\n",
       "    <tr>\n",
       "      <th>4</th>\n",
       "      <td>2009-10-01 01:00:00</td>\n",
       "      <td>0.00</td>\n",
       "      <td>0.41</td>\n",
       "      <td>0.00</td>\n",
       "      <td>0.00</td>\n",
       "      <td>0.12</td>\n",
       "      <td>61.349998</td>\n",
       "      <td>76.260002</td>\n",
       "      <td>0.00</td>\n",
       "      <td>38.090000</td>\n",
       "      <td>23.760000</td>\n",
       "      <td>0.00</td>\n",
       "      <td>0.00</td>\n",
       "      <td>7.82</td>\n",
       "      <td>1.41</td>\n",
       "      <td>0.00</td>\n",
       "      <td>28079007</td>\n",
       "    </tr>\n",
       "    <tr>\n",
       "      <th>...</th>\n",
       "      <td>...</td>\n",
       "      <td>...</td>\n",
       "      <td>...</td>\n",
       "      <td>...</td>\n",
       "      <td>...</td>\n",
       "      <td>...</td>\n",
       "      <td>...</td>\n",
       "      <td>...</td>\n",
       "      <td>...</td>\n",
       "      <td>...</td>\n",
       "      <td>...</td>\n",
       "      <td>...</td>\n",
       "      <td>...</td>\n",
       "      <td>...</td>\n",
       "      <td>...</td>\n",
       "      <td>...</td>\n",
       "      <td>...</td>\n",
       "    </tr>\n",
       "    <tr>\n",
       "      <th>215683</th>\n",
       "      <td>2009-06-01 00:00:00</td>\n",
       "      <td>0.50</td>\n",
       "      <td>0.22</td>\n",
       "      <td>0.39</td>\n",
       "      <td>0.75</td>\n",
       "      <td>0.09</td>\n",
       "      <td>22.000000</td>\n",
       "      <td>24.510000</td>\n",
       "      <td>1.00</td>\n",
       "      <td>82.239998</td>\n",
       "      <td>10.830000</td>\n",
       "      <td>7.15</td>\n",
       "      <td>0.74</td>\n",
       "      <td>6.25</td>\n",
       "      <td>1.25</td>\n",
       "      <td>0.69</td>\n",
       "      <td>28079024</td>\n",
       "    </tr>\n",
       "    <tr>\n",
       "      <th>215684</th>\n",
       "      <td>2009-06-01 00:00:00</td>\n",
       "      <td>0.00</td>\n",
       "      <td>0.31</td>\n",
       "      <td>0.00</td>\n",
       "      <td>0.00</td>\n",
       "      <td>0.00</td>\n",
       "      <td>76.110001</td>\n",
       "      <td>101.099998</td>\n",
       "      <td>0.00</td>\n",
       "      <td>41.220001</td>\n",
       "      <td>9.920000</td>\n",
       "      <td>0.00</td>\n",
       "      <td>0.00</td>\n",
       "      <td>4.90</td>\n",
       "      <td>0.00</td>\n",
       "      <td>0.00</td>\n",
       "      <td>28079025</td>\n",
       "    </tr>\n",
       "    <tr>\n",
       "      <th>215685</th>\n",
       "      <td>2009-06-01 00:00:00</td>\n",
       "      <td>0.13</td>\n",
       "      <td>0.00</td>\n",
       "      <td>0.86</td>\n",
       "      <td>0.00</td>\n",
       "      <td>0.23</td>\n",
       "      <td>81.050003</td>\n",
       "      <td>99.849998</td>\n",
       "      <td>0.00</td>\n",
       "      <td>24.830000</td>\n",
       "      <td>12.460000</td>\n",
       "      <td>6.77</td>\n",
       "      <td>0.00</td>\n",
       "      <td>8.40</td>\n",
       "      <td>1.34</td>\n",
       "      <td>0.13</td>\n",
       "      <td>28079026</td>\n",
       "    </tr>\n",
       "    <tr>\n",
       "      <th>215686</th>\n",
       "      <td>2009-06-01 00:00:00</td>\n",
       "      <td>0.21</td>\n",
       "      <td>0.00</td>\n",
       "      <td>2.96</td>\n",
       "      <td>0.00</td>\n",
       "      <td>0.10</td>\n",
       "      <td>72.419998</td>\n",
       "      <td>82.959999</td>\n",
       "      <td>0.00</td>\n",
       "      <td>0.000000</td>\n",
       "      <td>13.030000</td>\n",
       "      <td>0.00</td>\n",
       "      <td>0.00</td>\n",
       "      <td>7.84</td>\n",
       "      <td>1.42</td>\n",
       "      <td>1.87</td>\n",
       "      <td>28079027</td>\n",
       "    </tr>\n",
       "    <tr>\n",
       "      <th>215687</th>\n",
       "      <td>2009-06-01 00:00:00</td>\n",
       "      <td>0.37</td>\n",
       "      <td>0.32</td>\n",
       "      <td>0.99</td>\n",
       "      <td>1.36</td>\n",
       "      <td>0.14</td>\n",
       "      <td>54.290001</td>\n",
       "      <td>64.480003</td>\n",
       "      <td>1.06</td>\n",
       "      <td>56.919998</td>\n",
       "      <td>15.360000</td>\n",
       "      <td>11.61</td>\n",
       "      <td>0.83</td>\n",
       "      <td>6.93</td>\n",
       "      <td>1.34</td>\n",
       "      <td>2.02</td>\n",
       "      <td>28079099</td>\n",
       "    </tr>\n",
       "  </tbody>\n",
       "</table>\n",
       "<p>215688 rows × 17 columns</p>\n",
       "</div>"
      ],
      "text/plain": [
       "                       date   BEN    CO   EBE   MXY  NMHC       NO_2  \\\n",
       "0       2009-10-01 01:00:00  0.00  0.27  0.00  0.00  0.00  39.889999   \n",
       "1       2009-10-01 01:00:00  0.00  0.22  0.00  0.00  0.00  21.230000   \n",
       "2       2009-10-01 01:00:00  0.00  0.18  0.00  0.00  0.00  31.230000   \n",
       "3       2009-10-01 01:00:00  0.95  0.33  1.43  2.68  0.25  55.180000   \n",
       "4       2009-10-01 01:00:00  0.00  0.41  0.00  0.00  0.12  61.349998   \n",
       "...                     ...   ...   ...   ...   ...   ...        ...   \n",
       "215683  2009-06-01 00:00:00  0.50  0.22  0.39  0.75  0.09  22.000000   \n",
       "215684  2009-06-01 00:00:00  0.00  0.31  0.00  0.00  0.00  76.110001   \n",
       "215685  2009-06-01 00:00:00  0.13  0.00  0.86  0.00  0.23  81.050003   \n",
       "215686  2009-06-01 00:00:00  0.21  0.00  2.96  0.00  0.10  72.419998   \n",
       "215687  2009-06-01 00:00:00  0.37  0.32  0.99  1.36  0.14  54.290001   \n",
       "\n",
       "               NOx   OXY        O_3       PM10   PM25   PXY  SO_2   TCH   TOL  \\\n",
       "0        48.150002  0.00  50.680000  18.260000   0.00  0.00  5.55  0.00  0.00   \n",
       "1        24.260000  0.00  55.880001  10.580000   0.00  0.00  8.84  0.00  0.00   \n",
       "2        34.880001  0.00  49.060001  25.190001   0.00  0.00  6.98  0.00  0.00   \n",
       "3        81.360001  1.57  36.669998  26.530001   6.82  1.30  8.88  1.38  4.62   \n",
       "4        76.260002  0.00  38.090000  23.760000   0.00  0.00  7.82  1.41  0.00   \n",
       "...            ...   ...        ...        ...    ...   ...   ...   ...   ...   \n",
       "215683   24.510000  1.00  82.239998  10.830000   7.15  0.74  6.25  1.25  0.69   \n",
       "215684  101.099998  0.00  41.220001   9.920000   0.00  0.00  4.90  0.00  0.00   \n",
       "215685   99.849998  0.00  24.830000  12.460000   6.77  0.00  8.40  1.34  0.13   \n",
       "215686   82.959999  0.00   0.000000  13.030000   0.00  0.00  7.84  1.42  1.87   \n",
       "215687   64.480003  1.06  56.919998  15.360000  11.61  0.83  6.93  1.34  2.02   \n",
       "\n",
       "         station  \n",
       "0       28079003  \n",
       "1       28079004  \n",
       "2       28079039  \n",
       "3       28079006  \n",
       "4       28079007  \n",
       "...          ...  \n",
       "215683  28079024  \n",
       "215684  28079025  \n",
       "215685  28079026  \n",
       "215686  28079027  \n",
       "215687  28079099  \n",
       "\n",
       "[215688 rows x 17 columns]"
      ]
     },
     "execution_count": 3,
     "metadata": {},
     "output_type": "execute_result"
    }
   ],
   "source": [
    "df1 = df.fillna(0)\n",
    "df1"
   ]
  },
  {
   "cell_type": "code",
   "execution_count": 4,
   "id": "6ad73bcf",
   "metadata": {},
   "outputs": [
    {
     "name": "stdout",
     "output_type": "stream",
     "text": [
      "The history saving thread hit an unexpected error (OperationalError('database is locked')).History will not be written to the database.\n",
      "<class 'pandas.core.frame.DataFrame'>\n",
      "RangeIndex: 215688 entries, 0 to 215687\n",
      "Data columns (total 17 columns):\n",
      " #   Column   Non-Null Count   Dtype  \n",
      "---  ------   --------------   -----  \n",
      " 0   date     215688 non-null  object \n",
      " 1   BEN      60082 non-null   float64\n",
      " 2   CO       190801 non-null  float64\n",
      " 3   EBE      60081 non-null   float64\n",
      " 4   MXY      24846 non-null   float64\n",
      " 5   NMHC     74748 non-null   float64\n",
      " 6   NO_2     214562 non-null  float64\n",
      " 7   NOx      214565 non-null  float64\n",
      " 8   OXY      24854 non-null   float64\n",
      " 9   O_3      204482 non-null  float64\n",
      " 10  PM10     196331 non-null  float64\n",
      " 11  PM25     55822 non-null   float64\n",
      " 12  PXY      24854 non-null   float64\n",
      " 13  SO_2     212671 non-null  float64\n",
      " 14  TCH      75213 non-null   float64\n",
      " 15  TOL      59920 non-null   float64\n",
      " 16  station  215688 non-null  int64  \n",
      "dtypes: float64(15), int64(1), object(1)\n",
      "memory usage: 28.0+ MB\n"
     ]
    }
   ],
   "source": [
    "df.info()"
   ]
  },
  {
   "cell_type": "code",
   "execution_count": 5,
   "id": "69e7f1dd",
   "metadata": {},
   "outputs": [
    {
     "data": {
      "text/plain": [
       "Index(['date', 'BEN', 'CO', 'EBE', 'MXY', 'NMHC', 'NO_2', 'NOx', 'OXY', 'O_3',\n",
       "       'PM10', 'PM25', 'PXY', 'SO_2', 'TCH', 'TOL', 'station'],\n",
       "      dtype='object')"
      ]
     },
     "execution_count": 5,
     "metadata": {},
     "output_type": "execute_result"
    }
   ],
   "source": [
    "df.columns"
   ]
  },
  {
   "cell_type": "code",
   "execution_count": 6,
   "id": "3f2c0761",
   "metadata": {},
   "outputs": [],
   "source": [
    "df2=df1[['BEN', 'CO', 'EBE', 'MXY', 'NMHC', 'NO_2', 'NOx', 'OXY', 'O_3',\n",
    "       'PM10', 'PXY', 'SO_2', 'TCH', 'TOL', 'station']]"
   ]
  },
  {
   "cell_type": "code",
   "execution_count": null,
   "id": "1d42e7ef",
   "metadata": {},
   "outputs": [
    {
     "data": {
      "text/plain": [
       "<seaborn.axisgrid.PairGrid at 0xccb4fc9ca0>"
      ]
     },
     "execution_count": 7,
     "metadata": {},
     "output_type": "execute_result"
    }
   ],
   "source": [
    "sns.pairplot(df2)"
   ]
  },
  {
   "cell_type": "code",
   "execution_count": null,
   "id": "06afba7c",
   "metadata": {},
   "outputs": [],
   "source": [
    "sns.distplot(df2['O_3'])"
   ]
  },
  {
   "cell_type": "code",
   "execution_count": null,
   "id": "a9eaf247",
   "metadata": {},
   "outputs": [],
   "source": [
    "sns.heatmap(df2.corr())"
   ]
  },
  {
   "cell_type": "markdown",
   "id": "268b44d6",
   "metadata": {},
   "source": [
    "# Linear Regression"
   ]
  },
  {
   "cell_type": "code",
   "execution_count": null,
   "id": "0896e087",
   "metadata": {},
   "outputs": [],
   "source": [
    "x = df2[['BEN', 'CO', 'EBE', 'MXY', 'NMHC', 'NO_2', 'NOx', 'OXY',\n",
    "       'PM10', 'PXY', 'SO_2', 'TCH', 'TOL']]\n",
    "y = df2['O_3']"
   ]
  },
  {
   "cell_type": "code",
   "execution_count": 11,
   "id": "d9bc34b9",
   "metadata": {},
   "outputs": [],
   "source": [
    "from sklearn.model_selection import train_test_split\n",
    "x_train,x_test,y_train,y_test = train_test_split(x,y,test_size=0.3)"
   ]
  },
  {
   "cell_type": "code",
   "execution_count": 12,
   "id": "ad03ae49",
   "metadata": {},
   "outputs": [
    {
     "data": {
      "text/plain": [
       "LinearRegression()"
      ]
     },
     "execution_count": 12,
     "metadata": {},
     "output_type": "execute_result"
    }
   ],
   "source": [
    "from sklearn.linear_model import LinearRegression\n",
    "\n",
    "lr=LinearRegression()\n",
    "lr.fit(x_train,y_train)      "
   ]
  },
  {
   "cell_type": "code",
   "execution_count": 13,
   "id": "dc4093a0",
   "metadata": {},
   "outputs": [
    {
     "name": "stdout",
     "output_type": "stream",
     "text": [
      "67.16757756833057\n"
     ]
    }
   ],
   "source": [
    "print(lr.intercept_)"
   ]
  },
  {
   "cell_type": "code",
   "execution_count": 14,
   "id": "884109c7",
   "metadata": {},
   "outputs": [
    {
     "data": {
      "text/html": [
       "<div>\n",
       "<style scoped>\n",
       "    .dataframe tbody tr th:only-of-type {\n",
       "        vertical-align: middle;\n",
       "    }\n",
       "\n",
       "    .dataframe tbody tr th {\n",
       "        vertical-align: top;\n",
       "    }\n",
       "\n",
       "    .dataframe thead th {\n",
       "        text-align: right;\n",
       "    }\n",
       "</style>\n",
       "<table border=\"1\" class=\"dataframe\">\n",
       "  <thead>\n",
       "    <tr style=\"text-align: right;\">\n",
       "      <th></th>\n",
       "      <th>Co-effecient</th>\n",
       "    </tr>\n",
       "  </thead>\n",
       "  <tbody>\n",
       "    <tr>\n",
       "      <th>BEN</th>\n",
       "      <td>3.868833</td>\n",
       "    </tr>\n",
       "    <tr>\n",
       "      <th>CO</th>\n",
       "      <td>17.180232</td>\n",
       "    </tr>\n",
       "    <tr>\n",
       "      <th>EBE</th>\n",
       "      <td>-7.743169</td>\n",
       "    </tr>\n",
       "    <tr>\n",
       "      <th>MXY</th>\n",
       "      <td>-2.359502</td>\n",
       "    </tr>\n",
       "    <tr>\n",
       "      <th>NMHC</th>\n",
       "      <td>29.883953</td>\n",
       "    </tr>\n",
       "    <tr>\n",
       "      <th>NO_2</th>\n",
       "      <td>-0.329391</td>\n",
       "    </tr>\n",
       "    <tr>\n",
       "      <th>NOx</th>\n",
       "      <td>-0.112274</td>\n",
       "    </tr>\n",
       "    <tr>\n",
       "      <th>OXY</th>\n",
       "      <td>10.184632</td>\n",
       "    </tr>\n",
       "    <tr>\n",
       "      <th>PM10</th>\n",
       "      <td>0.169040</td>\n",
       "    </tr>\n",
       "    <tr>\n",
       "      <th>PXY</th>\n",
       "      <td>-1.018037</td>\n",
       "    </tr>\n",
       "    <tr>\n",
       "      <th>SO_2</th>\n",
       "      <td>-0.588607</td>\n",
       "    </tr>\n",
       "    <tr>\n",
       "      <th>TCH</th>\n",
       "      <td>-4.546413</td>\n",
       "    </tr>\n",
       "    <tr>\n",
       "      <th>TOL</th>\n",
       "      <td>0.341064</td>\n",
       "    </tr>\n",
       "  </tbody>\n",
       "</table>\n",
       "</div>"
      ],
      "text/plain": [
       "      Co-effecient\n",
       "BEN       3.868833\n",
       "CO       17.180232\n",
       "EBE      -7.743169\n",
       "MXY      -2.359502\n",
       "NMHC     29.883953\n",
       "NO_2     -0.329391\n",
       "NOx      -0.112274\n",
       "OXY      10.184632\n",
       "PM10      0.169040\n",
       "PXY      -1.018037\n",
       "SO_2     -0.588607\n",
       "TCH      -4.546413\n",
       "TOL       0.341064"
      ]
     },
     "execution_count": 14,
     "metadata": {},
     "output_type": "execute_result"
    }
   ],
   "source": [
    "coeff=pd.DataFrame(lr.coef_,x.columns,columns=['Co-effecient'])\n",
    "coeff"
   ]
  },
  {
   "cell_type": "code",
   "execution_count": 15,
   "id": "e1210195",
   "metadata": {},
   "outputs": [
    {
     "data": {
      "text/plain": [
       "<matplotlib.collections.PathCollection at 0xcc89094cd0>"
      ]
     },
     "execution_count": 15,
     "metadata": {},
     "output_type": "execute_result"
    },
    {
     "data": {
      "image/png": "[encoded data removed]",
      "text/plain": [
       "<Figure size 432x288 with 1 Axes>"
      ]
     },
     "metadata": {
      "needs_background": "light"
     },
     "output_type": "display_data"
    }
   ],
   "source": [
    "prediction=lr.predict(x_test)\n",
    "plt.scatter(y_test,prediction)"
   ]
  },
  {
   "cell_type": "code",
   "execution_count": 16,
   "id": "0fc5896b",
   "metadata": {},
   "outputs": [
    {
     "name": "stdout",
     "output_type": "stream",
     "text": [
      "0.3422046926083425\n"
     ]
    }
   ],
   "source": [
    "print(lr.score(x_test,y_test))"
   ]
  },
  {
   "cell_type": "code",
   "execution_count": 17,
   "id": "e4a1e5c8",
   "metadata": {},
   "outputs": [
    {
     "data": {
      "text/plain": [
       "0.3333706198510008"
      ]
     },
     "execution_count": 17,
     "metadata": {},
     "output_type": "execute_result"
    }
   ],
   "source": [
    "lr.score(x_train,y_train)"
   ]
  },
  {
   "cell_type": "markdown",
   "id": "d1a402c2",
   "metadata": {},
   "source": [
    "# Ridge Lasso"
   ]
  },
  {
   "cell_type": "code",
   "execution_count": 18,
   "id": "e61a5632",
   "metadata": {},
   "outputs": [],
   "source": [
    "from sklearn.linear_model import Ridge,Lasso"
   ]
  },
  {
   "cell_type": "code",
   "execution_count": 19,
   "id": "38709ca0",
   "metadata": {},
   "outputs": [
    {
     "data": {
      "text/plain": [
       "0.3422065717779953"
      ]
     },
     "execution_count": 19,
     "metadata": {},
     "output_type": "execute_result"
    }
   ],
   "source": [
    "rr=Ridge(alpha=10)\n",
    "rr.fit(x_train,y_train)\n",
    "rr.score(x_test,y_test)"
   ]
  },
  {
   "cell_type": "code",
   "execution_count": 20,
   "id": "67ec1893",
   "metadata": {},
   "outputs": [],
   "source": [
    "predict2=(rr.predict(x_test))"
   ]
  },
  {
   "cell_type": "code",
   "execution_count": 21,
   "id": "bc84e73b",
   "metadata": {},
   "outputs": [
    {
     "data": {
      "text/plain": [
       "Lasso(alpha=10)"
      ]
     },
     "execution_count": 21,
     "metadata": {},
     "output_type": "execute_result"
    }
   ],
   "source": [
    "la=Lasso(alpha=10)\n",
    "la.fit(x_train,y_train)"
   ]
  },
  {
   "cell_type": "code",
   "execution_count": 22,
   "id": "100c3b1e",
   "metadata": {},
   "outputs": [
    {
     "data": {
      "text/plain": [
       "0.28888448171856995"
      ]
     },
     "execution_count": 22,
     "metadata": {},
     "output_type": "execute_result"
    }
   ],
   "source": [
    "la.score(x_test,y_test)"
   ]
  },
  {
   "cell_type": "markdown",
   "id": "33264e69",
   "metadata": {},
   "source": [
    "# Elastic Net regression"
   ]
  },
  {
   "cell_type": "code",
   "execution_count": 23,
   "id": "293fba28",
   "metadata": {},
   "outputs": [
    {
     "data": {
      "text/plain": [
       "ElasticNet()"
      ]
     },
     "execution_count": 23,
     "metadata": {},
     "output_type": "execute_result"
    }
   ],
   "source": [
    "from sklearn.linear_model import ElasticNet\n",
    "en=ElasticNet()\n",
    "en.fit(x_train,y_train)"
   ]
  },
  {
   "cell_type": "code",
   "execution_count": 24,
   "id": "81447c74",
   "metadata": {},
   "outputs": [
    {
     "name": "stdout",
     "output_type": "stream",
     "text": [
      "[ 0.          0.31589153 -2.30174274  0.96961938  0.         -0.33654857\n",
      " -0.06817743  0.75214569  0.18158044  0.3106623  -0.3778727  -0.19929701\n",
      "  0.04178398]\n"
     ]
    }
   ],
   "source": [
    "print(en.coef_)"
   ]
  },
  {
   "cell_type": "code",
   "execution_count": 25,
   "id": "0963fc5a",
   "metadata": {},
   "outputs": [
    {
     "name": "stdout",
     "output_type": "stream",
     "text": [
      "66.71935502395523\n"
     ]
    }
   ],
   "source": [
    "print(en.intercept_)"
   ]
  },
  {
   "cell_type": "code",
   "execution_count": 26,
   "id": "eed1f8f2",
   "metadata": {},
   "outputs": [
    {
     "name": "stdout",
     "output_type": "stream",
     "text": [
      "0.3090729309874519\n"
     ]
    }
   ],
   "source": [
    "print(en.score(x_test,y_test))\n"
   ]
  },
  {
   "cell_type": "code",
   "execution_count": 27,
   "id": "c83f55b9",
   "metadata": {},
   "outputs": [
    {
     "name": "stdout",
     "output_type": "stream",
     "text": [
      "0.3014386391834687\n"
     ]
    }
   ],
   "source": [
    "print(en.score(x_train,y_train))"
   ]
  },
  {
   "cell_type": "markdown",
   "id": "252fc09b",
   "metadata": {},
   "source": [
    "# Logistic Regression"
   ]
  },
  {
   "cell_type": "code",
   "execution_count": 28,
   "id": "76d2b451",
   "metadata": {},
   "outputs": [],
   "source": [
    "from sklearn.linear_model import LogisticRegression"
   ]
  },
  {
   "cell_type": "code",
   "execution_count": 29,
   "id": "d32262a4",
   "metadata": {},
   "outputs": [],
   "source": [
    "feature_matrix=df2.iloc[:,0:5]\n",
    "target_vector=df2.iloc[:,-1]"
   ]
  },
  {
   "cell_type": "code",
   "execution_count": 30,
   "id": "ad913c89",
   "metadata": {},
   "outputs": [],
   "source": [
    "from sklearn.preprocessing import StandardScaler"
   ]
  },
  {
   "cell_type": "code",
   "execution_count": 31,
   "id": "129f8bd5",
   "metadata": {},
   "outputs": [],
   "source": [
    "fs=StandardScaler().fit_transform(feature_matrix)"
   ]
  },
  {
   "cell_type": "code",
   "execution_count": 32,
   "id": "b96b6f74",
   "metadata": {},
   "outputs": [
    {
     "name": "stderr",
     "output_type": "stream",
     "text": [
      "C:\\Users\\user\\anaconda3\\lib\\site-packages\\sklearn\\linear_model\\_logistic.py:763: ConvergenceWarning: lbfgs failed to converge (status=1):\n",
      "STOP: TOTAL NO. of ITERATIONS REACHED LIMIT.\n",
      "\n",
      "Increase the number of iterations (max_iter) or scale the data as shown in:\n",
      "    https://scikit-learn.org/stable/modules/preprocessing.html\n",
      "Please also refer to the documentation for alternative solver options:\n",
      "    https://scikit-learn.org/stable/modules/linear_model.html#logistic-regression\n",
      "  n_iter_i = _check_optimize_result(\n"
     ]
    },
    {
     "data": {
      "text/plain": [
       "LogisticRegression()"
      ]
     },
     "execution_count": 32,
     "metadata": {},
     "output_type": "execute_result"
    }
   ],
   "source": [
    "logr=LogisticRegression()\n",
    "logr.fit(fs,target_vector)"
   ]
  },
  {
   "cell_type": "code",
   "execution_count": 33,
   "id": "ae706aba",
   "metadata": {},
   "outputs": [
    {
     "data": {
      "text/plain": [
       "(215688, 15)"
      ]
     },
     "execution_count": 33,
     "metadata": {},
     "output_type": "execute_result"
    }
   ],
   "source": [
    "df2.shape"
   ]
  },
  {
   "cell_type": "code",
   "execution_count": 34,
   "id": "f7f4140d",
   "metadata": {},
   "outputs": [],
   "source": [
    "observation=[[1,2,3,4,5]]\n",
    "predication = logr.predict(observation)"
   ]
  },
  {
   "cell_type": "code",
   "execution_count": 35,
   "id": "bd46c021",
   "metadata": {},
   "outputs": [
    {
     "name": "stdout",
     "output_type": "stream",
     "text": [
      "[28079099]\n"
     ]
    }
   ],
   "source": [
    "print(predication)"
   ]
  },
  {
   "cell_type": "code",
   "execution_count": 36,
   "id": "c8ffa361",
   "metadata": {},
   "outputs": [
    {
     "data": {
      "text/plain": [
       "array([28079001, 28079003, 28079004, 28079006, 28079007, 28079008,\n",
       "       28079009, 28079011, 28079012, 28079014, 28079016, 28079017,\n",
       "       28079018, 28079019, 28079021, 28079022, 28079023, 28079024,\n",
       "       28079025, 28079026, 28079027, 28079036, 28079038, 28079039,\n",
       "       28079040, 28079047, 28079054, 28079057, 28079058, 28079059,\n",
       "       28079099], dtype=int64)"
      ]
     },
     "execution_count": 36,
     "metadata": {},
     "output_type": "execute_result"
    }
   ],
   "source": [
    "logr.classes_"
   ]
  },
  {
   "cell_type": "code",
   "execution_count": 37,
   "id": "69303ea2",
   "metadata": {},
   "outputs": [],
   "source": [
    "from sklearn.model_selection import train_test_split\n",
    "\n",
    "x_train,x_test,y_train,y_test = train_test_split(feature_matrix,target_vector,test_size=0.30)"
   ]
  },
  {
   "cell_type": "code",
   "execution_count": 38,
   "id": "e5fee29a",
   "metadata": {},
   "outputs": [
    {
     "name": "stdout",
     "output_type": "stream",
     "text": [
      "0.07227966062404377\n"
     ]
    }
   ],
   "source": [
    "print(logr.score(x_test,y_test))"
   ]
  },
  {
   "cell_type": "code",
   "execution_count": 39,
   "id": "71595a73",
   "metadata": {},
   "outputs": [
    {
     "name": "stdout",
     "output_type": "stream",
     "text": [
      "0.07046582020254204\n"
     ]
    }
   ],
   "source": [
    "print(logr.score(x_train,y_train))"
   ]
  },
  {
   "cell_type": "markdown",
   "id": "800a5424",
   "metadata": {},
   "source": [
    "# Conclusion"
   ]
  },
  {
   "cell_type": "markdown",
   "id": "718c382c",
   "metadata": {},
   "source": [
    "Linear Regression is bestfit model\n",
    "\n",
    "Linear Regression is bestfit model for dataset madrid_2001. The Score x_test,y_test is 0.3422046926083425 and x_train,y_train score is 0.3333706198510008"
   ]
  },
  {
   "cell_type": "code",
   "execution_count": null,
   "id": "237ac468",
   "metadata": {},
   "outputs": [],
   "source": []
  }
 ],
 "metadata": {
  "kernelspec": {
   "display_name": "Python 3 (ipykernel)",
   "language": "python",
   "name": "python3"
  },
  "language_info": {
   "codemirror_mode": {
    "name": "ipython",
    "version": 3
   },
   "file_extension": ".py",
   "mimetype": "text/x-python",
   "name": "python",
   "nbconvert_exporter": "python",
   "pygments_lexer": "ipython3",
   "version": "3.9.7"
  }
 },
 "nbformat": 4,
 "nbformat_minor": 5
}
