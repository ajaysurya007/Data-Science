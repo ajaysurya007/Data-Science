{
 "cells": [
  {
   "cell_type": "markdown",
   "id": "cbba2465",
   "metadata": {},
   "source": [
    "# 1. Create 5 matrices with five different dimensions (1-D,2-D,...5-D)"
   ]
  },
  {
   "cell_type": "code",
   "execution_count": 2,
   "id": "4f9201a6",
   "metadata": {},
   "outputs": [],
   "source": [
    "import numpy as np\n",
    "import pandas as pd\n",
    "from numpy import linalg as li"
   ]
  },
  {
   "cell_type": "code",
   "execution_count": 3,
   "id": "bbd883d6",
   "metadata": {},
   "outputs": [
    {
     "name": "stdout",
     "output_type": "stream",
     "text": [
      "[1]\n"
     ]
    }
   ],
   "source": [
    "a = np.array([1])\n",
    "print(a)"
   ]
  },
  {
   "cell_type": "code",
   "execution_count": 5,
   "id": "78075ff2",
   "metadata": {},
   "outputs": [
    {
     "name": "stdout",
     "output_type": "stream",
     "text": [
      "[[1 2 3 4 5]\n",
      " [1 2 3 4 5]]\n"
     ]
    }
   ],
   "source": [
    "b = np.array([[1,2,3,4,5],[1,2,3,4,5]])\n",
    "print(b)"
   ]
  },
  {
   "cell_type": "code",
   "execution_count": 6,
   "id": "8d4b114e",
   "metadata": {},
   "outputs": [
    {
     "name": "stdout",
     "output_type": "stream",
     "text": [
      "[[1 2 3 4 5]\n",
      " [1 2 3 4 5]\n",
      " [9 8 7 6 5]]\n"
     ]
    }
   ],
   "source": [
    "c = np.array([[1,2,3,4,5],[1,2,3,4,5],[9,8,7,6,5]])\n",
    "print(c)"
   ]
  },
  {
   "cell_type": "code",
   "execution_count": 7,
   "id": "964891a7",
   "metadata": {},
   "outputs": [
    {
     "name": "stdout",
     "output_type": "stream",
     "text": [
      "[[ 1  2  3  4  5]\n",
      " [ 1  2  3  4  5]\n",
      " [ 9  8  7  6  5]\n",
      " [11 12 13 14 15]]\n"
     ]
    }
   ],
   "source": [
    "d = np.array([[1,2,3,4,5],[1,2,3,4,5],[9,8,7,6,5],[11,12,13,14,15]])\n",
    "print(d)"
   ]
  },
  {
   "cell_type": "code",
   "execution_count": 9,
   "id": "90d5cf77",
   "metadata": {},
   "outputs": [
    {
     "name": "stdout",
     "output_type": "stream",
     "text": [
      "[[ 1  2  3  4  5]\n",
      " [ 1  2  3  4  5]\n",
      " [ 9  8  7  6  5]\n",
      " [11 12 13 14 15]\n",
      " [22 23 24 25 26]]\n"
     ]
    }
   ],
   "source": [
    "e = np.array([[1,2,3,4,5],[1,2,3,4,5],[9,8,7,6,5],[11,12,13,14,15],[22,23,24,25,26]])\n",
    "print(e)"
   ]
  },
  {
   "cell_type": "markdown",
   "id": "4d06b3d8",
   "metadata": {},
   "source": [
    "# 2. Find determinants of 5 matrices and display your output"
   ]
  },
  {
   "cell_type": "code",
   "execution_count": 13,
   "id": "5def815e",
   "metadata": {},
   "outputs": [
    {
     "name": "stdout",
     "output_type": "stream",
     "text": [
      "520.0000000000005\n",
      "77.00000000000001\n",
      "-3154500.000000001\n",
      "-2373799.999999997\n",
      "5573699.999999998\n"
     ]
    }
   ],
   "source": [
    "e = np.array([[1,2,3],[1,2,55],[9,8,7]])\n",
    "s = np.array([[11,12],[44,55]])\n",
    "f = np.array([[10,20,30,40],[15,24,30,74],[19,58,7,6],[110,127,135,140]])\n",
    "g = np.array([[1,2,3,4,5],[1,2,3,4,88],[99,88,77,66,55],[1,1,13,14,5],[2,3,24,5,26]])\n",
    "h = np.array([[19,20,36,4,55],[61,2,83,4,45],[9,18,7,16,5],[11,1,13,14,5],[22,23,29,25,60]])\n",
    "print(li.det(e))\n",
    "print(li.det(s))\n",
    "print(li.det(f))\n",
    "print(li.det(g))\n",
    "print(li.det(h))\n",
    "\n"
   ]
  },
  {
   "cell_type": "markdown",
   "id": "c72607a5",
   "metadata": {},
   "source": [
    "# 3. Find inverse of the above 5 matrices and display your output"
   ]
  },
  {
   "cell_type": "code",
   "execution_count": 14,
   "id": "85912c57",
   "metadata": {},
   "outputs": [
    {
     "name": "stdout",
     "output_type": "stream",
     "text": [
      "[[-0.81923077  0.01923077  0.2       ]\n",
      " [ 0.93846154 -0.03846154 -0.1       ]\n",
      " [-0.01923077  0.01923077 -0.        ]]\n"
     ]
    }
   ],
   "source": [
    "print(li.inv(e))"
   ]
  },
  {
   "cell_type": "code",
   "execution_count": 15,
   "id": "e8ca5c9d",
   "metadata": {},
   "outputs": [
    {
     "name": "stdout",
     "output_type": "stream",
     "text": [
      "[[ 0.71428571 -0.15584416]\n",
      " [-0.57142857  0.14285714]]\n"
     ]
    }
   ],
   "source": [
    "print(li.inv(s))"
   ]
  },
  {
   "cell_type": "code",
   "execution_count": 16,
   "id": "3cccfe81",
   "metadata": {},
   "outputs": [
    {
     "name": "stdout",
     "output_type": "stream",
     "text": [
      "[[-0.09414297  0.01911555 -0.0134855   0.01737201]\n",
      " [ 0.02389602 -0.0042796   0.02291964 -0.00554763]\n",
      " [ 0.07328832 -0.03965763 -0.00983357  0.00044381]\n",
      " [-0.01837851  0.02710414 -0.00071327 -0.00190204]]\n"
     ]
    }
   ],
   "source": [
    "print(li.inv(f))"
   ]
  },
  {
   "cell_type": "code",
   "execution_count": 17,
   "id": "572bb9b2",
   "metadata": {},
   "outputs": [
    {
     "name": "stdout",
     "output_type": "stream",
     "text": [
      "[[-8.07771084e-01  3.89249305e-02  1.71678322e-02  1.53846154e-01\n",
      "  -4.23076923e-02]\n",
      " [ 9.27108434e-01 -4.63392030e-02 -7.34265734e-03 -2.30769231e-01\n",
      "   3.84615385e-02]\n",
      " [-4.29518072e-02 -1.20481928e-02 -4.54545455e-04  1.66533454e-18\n",
      "   5.00000000e-02]\n",
      " [ 3.56626506e-02  7.41427247e-03 -2.79720280e-04  7.69230769e-02\n",
      "  -4.61538462e-02]\n",
      " [-1.20481928e-02  1.20481928e-02  0.00000000e+00  0.00000000e+00\n",
      "   0.00000000e+00]]\n"
     ]
    }
   ],
   "source": [
    "print(li.inv(g))"
   ]
  },
  {
   "cell_type": "code",
   "execution_count": 18,
   "id": "48e70e5a",
   "metadata": {},
   "outputs": [
    {
     "name": "stdout",
     "output_type": "stream",
     "text": [
      "[[-0.14726304  0.05515815  0.03089241 -0.20157167  0.10784578]\n",
      " [ 0.02196028 -0.00145146  0.06015932 -0.03719253 -0.02095556]\n",
      " [ 0.11545293 -0.02830077 -0.00994671  0.1598579  -0.09709888]\n",
      " [ 0.01243339 -0.01740675 -0.01030195  0.09413854 -0.0053286 ]\n",
      " [-0.01540449  0.00126325 -0.02528823 -0.0283223   0.03430755]]\n"
     ]
    }
   ],
   "source": [
    "print(li.inv(h))"
   ]
  },
  {
   "cell_type": "markdown",
   "id": "beb216f0",
   "metadata": {},
   "source": [
    "# 4. Find the rank, diagonal and trace of the 5 matrices"
   ]
  },
  {
   "cell_type": "code",
   "execution_count": 19,
   "id": "5df22545",
   "metadata": {},
   "outputs": [
    {
     "name": "stdout",
     "output_type": "stream",
     "text": [
      "3\n",
      "[1 2 7]\n",
      "10\n"
     ]
    }
   ],
   "source": [
    "print(li.matrix_rank(e))\n",
    "print(np.diag(e))\n",
    "print(np.trace(e))"
   ]
  },
  {
   "cell_type": "code",
   "execution_count": 20,
   "id": "9ba6b234",
   "metadata": {},
   "outputs": [
    {
     "name": "stdout",
     "output_type": "stream",
     "text": [
      "2\n",
      "[11 55]\n",
      "66\n"
     ]
    }
   ],
   "source": [
    "print(li.matrix_rank(s))\n",
    "print(np.diag(s))\n",
    "print(np.trace(s))"
   ]
  },
  {
   "cell_type": "code",
   "execution_count": 21,
   "id": "c440a5b0",
   "metadata": {},
   "outputs": [
    {
     "name": "stdout",
     "output_type": "stream",
     "text": [
      "4\n",
      "[ 10  24   7 140]\n",
      "181\n"
     ]
    }
   ],
   "source": [
    "print(li.matrix_rank(f))\n",
    "print(np.diag(f))\n",
    "print(np.trace(f))"
   ]
  },
  {
   "cell_type": "code",
   "execution_count": 22,
   "id": "6b72fc8b",
   "metadata": {},
   "outputs": [
    {
     "name": "stdout",
     "output_type": "stream",
     "text": [
      "5\n",
      "[ 1  2 77 14 26]\n",
      "120\n"
     ]
    }
   ],
   "source": [
    "print(li.matrix_rank(g))\n",
    "print(np.diag(g))\n",
    "print(np.trace(g))"
   ]
  },
  {
   "cell_type": "code",
   "execution_count": 23,
   "id": "10d7d16e",
   "metadata": {},
   "outputs": [
    {
     "name": "stdout",
     "output_type": "stream",
     "text": [
      "5\n",
      "[19  2  7 14 60]\n",
      "102\n"
     ]
    }
   ],
   "source": [
    "print(li.matrix_rank(h))\n",
    "print(np.diag(h))\n",
    "print(np.trace(h))"
   ]
  },
  {
   "cell_type": "markdown",
   "id": "1ef51a49",
   "metadata": {},
   "source": [
    "# 5. Find Eigen value and eigen vector for 5 matrices"
   ]
  },
  {
   "cell_type": "code",
   "execution_count": 26,
   "id": "4cca903e",
   "metadata": {},
   "outputs": [
    {
     "name": "stdout",
     "output_type": "stream",
     "text": [
      "[[-0.11636192 -0.64726532  0.05745268]\n",
      " [-0.90411499  0.76156857 -0.9494539 ]\n",
      " [-0.41113988 -0.03257175  0.30860409]]\n",
      "[ 27.13956234  -1.20222196 -15.93734038]\n"
     ]
    }
   ],
   "source": [
    "o,p = li.eig(e)\n",
    "print(p)\n",
    "print(o)"
   ]
  },
  {
   "cell_type": "code",
   "execution_count": 27,
   "id": "c3483b68",
   "metadata": {},
   "outputs": [
    {
     "name": "stdout",
     "output_type": "stream",
     "text": [
      "[ 1.18805256 64.81194744]\n",
      "[[-0.77415438 -0.2176527 ]\n",
      " [ 0.63299684 -0.97602628]]\n"
     ]
    }
   ],
   "source": [
    "q,r = li.eig(s)\n",
    "print(q)\n",
    "print(r)"
   ]
  },
  {
   "cell_type": "code",
   "execution_count": 31,
   "id": "d694a424",
   "metadata": {},
   "outputs": [
    {
     "name": "stdout",
     "output_type": "stream",
     "text": [
      "[234.47783301 +0.j        -20.02171928+24.5058729j\n",
      " -20.02171928-24.5058729j -13.43439445 +0.j       ]\n",
      "[[ 0.20969896+0.j          0.24296   +0.05322741j  0.24296   -0.05322741j\n",
      "  -0.66108854+0.j        ]\n",
      " [ 0.35111503+0.j          0.25453475-0.37303637j  0.25453475+0.37303637j\n",
      "  -0.02670509+0.j        ]\n",
      " [ 0.13085958+0.j         -0.76929659+0.j         -0.76929659-0.j\n",
      "   0.73461408+0.j        ]\n",
      " [ 0.90311702+0.j          0.23474355+0.2954174j   0.23474355-0.2954174j\n",
      "  -0.15030278+0.j        ]]\n"
     ]
    }
   ],
   "source": [
    "t,u = li.eig(f)\n",
    "print(t)\n",
    "print(u)"
   ]
  },
  {
   "cell_type": "code",
   "execution_count": 30,
   "id": "65454325",
   "metadata": {},
   "outputs": [
    {
     "name": "stdout",
     "output_type": "stream",
     "text": [
      "[123.54040599 +0.j          -7.24816806+36.14973678j\n",
      "  -7.24816806-36.14973678j  -1.1660903  +0.j\n",
      "  12.12202043 +0.j        ]\n",
      "[[ 0.04037009+0.j          0.0172162 +0.00706531j  0.0172162 -0.00706531j\n",
      "  -0.65520756+0.j         -0.1111123 +0.j        ]\n",
      " [ 0.20462711+0.j          0.66630227+0.j          0.66630227-0.j\n",
      "   0.7546798 +0.j          0.61475867+0.j        ]\n",
      " [ 0.93869574+0.j         -0.42792497-0.50894678j -0.42792497+0.50894678j\n",
      "  -0.02107009+0.j          0.03214454+0.j        ]\n",
      " [ 0.12479846+0.j         -0.04455306+0.1685823j  -0.04455306-0.1685823j\n",
      "   0.01803223+0.j         -0.77295146+0.j        ]\n",
      " [ 0.24448649+0.j         -0.05360573+0.28331929j -0.05360573-0.28331929j\n",
      "  -0.0198079 +0.j          0.10601232+0.j        ]]\n"
     ]
    }
   ],
   "source": [
    "z,x = li.eig(g)\n",
    "print(z)\n",
    "print(x)"
   ]
  },
  {
   "cell_type": "code",
   "execution_count": 32,
   "id": "a93e68c8",
   "metadata": {},
   "outputs": [
    {
     "name": "stdout",
     "output_type": "stream",
     "text": [
      "[118.67120873+0.j        -36.9327678 +0.j         -6.61099252+0.j\n",
      "  13.4362758 +3.4392845j  13.4362758 -3.4392845j]\n",
      "[[ 0.50580035+0.j         -0.05406624+0.j          0.80247827+0.j\n",
      "  -0.43483366+0.1554564j  -0.43483366-0.1554564j ]\n",
      " [ 0.61536847+0.j         -0.90299471+0.j          0.09952535+0.j\n",
      "   0.21117122+0.24022774j  0.21117122-0.24022774j]\n",
      " [ 0.18087573+0.j          0.39714274+0.j         -0.58495063+0.j\n",
      "   0.55580996+0.j          0.55580996-0.j        ]\n",
      " [ 0.10856221+0.j         -0.08467847+0.j         -0.05864811+0.j\n",
      "   0.36590341-0.20210938j  0.36590341+0.20210938j]\n",
      " [ 0.56655615+0.j          0.12955534+0.j         -0.02272649+0.j\n",
      "  -0.43293747-0.11557365j -0.43293747+0.11557365j]]\n"
     ]
    }
   ],
   "source": [
    "u,i = li.eig(h)\n",
    "print(u)\n",
    "print(i)"
   ]
  },
  {
   "cell_type": "code",
   "execution_count": null,
   "id": "9195381e",
   "metadata": {},
   "outputs": [],
   "source": []
  }
 ],
 "metadata": {
  "kernelspec": {
   "display_name": "Python 3",
   "language": "python",
   "name": "python3"
  },
  "language_info": {
   "codemirror_mode": {
    "name": "ipython",
    "version": 3
   },
   "file_extension": ".py",
   "mimetype": "text/x-python",
   "name": "python",
   "nbconvert_exporter": "python",
   "pygments_lexer": "ipython3",
   "version": "3.8.8"
  }
 },
 "nbformat": 4,
 "nbformat_minor": 5
}
